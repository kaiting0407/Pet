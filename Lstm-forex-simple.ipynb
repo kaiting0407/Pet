{
  "cells": [
    {
      "cell_type": "markdown",
      "metadata": {
        "id": "4gsu2VOXn02j"
      },
      "source": [
        "# Simple LSTM\n",
        "### Importing"
      ]
    },
    {
      "cell_type": "code",
      "execution_count": 53,
      "metadata": {
        "id": "M3C4TjYDwDx4"
      },
      "outputs": [],
      "source": [
        "import pandas as pd\n",
        "import matplotlib.pyplot as plt\n",
        "import numpy as np\n",
        "import math\n",
        "import tensorflow as tf\n",
        "from numpy import array\n",
        "from tensorflow.keras.models import Sequential\n",
        "from tensorflow.keras.layers import LSTM, Dense, Dropout\n",
        "from sklearn.preprocessing import MinMaxScaler\n",
        "from sklearn.metrics import mean_squared_error"
      ]
    },
    {
      "cell_type": "markdown",
      "metadata": {
        "id": "4hRndIfXpFQ5"
      },
      "source": [
        "### Reading df"
      ]
    },
    {
      "cell_type": "code",
      "execution_count": 54,
      "metadata": {
        "colab": {
          "base_uri": "https://localhost:8080/",
          "height": 238
        },
        "id": "tkKcfgQexMgI",
        "outputId": "49c35a96-12fa-47da-e81b-2713a6c92e0d"
      },
      "outputs": [
        {
          "data": {
            "text/html": [
              "<div>\n",
              "<style scoped>\n",
              "    .dataframe tbody tr th:only-of-type {\n",
              "        vertical-align: middle;\n",
              "    }\n",
              "\n",
              "    .dataframe tbody tr th {\n",
              "        vertical-align: top;\n",
              "    }\n",
              "\n",
              "    .dataframe thead th {\n",
              "        text-align: right;\n",
              "    }\n",
              "</style>\n",
              "<table border=\"1\" class=\"dataframe\">\n",
              "  <thead>\n",
              "    <tr style=\"text-align: right;\">\n",
              "      <th></th>\n",
              "      <th>Open</th>\n",
              "      <th>High</th>\n",
              "      <th>Low</th>\n",
              "      <th>Close</th>\n",
              "      <th>Adj Close</th>\n",
              "      <th>Volume</th>\n",
              "    </tr>\n",
              "    <tr>\n",
              "      <th>Date</th>\n",
              "      <th></th>\n",
              "      <th></th>\n",
              "      <th></th>\n",
              "      <th></th>\n",
              "      <th></th>\n",
              "      <th></th>\n",
              "    </tr>\n",
              "  </thead>\n",
              "  <tbody>\n",
              "    <tr>\n",
              "      <th>2022-01-22</th>\n",
              "      <td>36471.589844</td>\n",
              "      <td>36688.812500</td>\n",
              "      <td>34349.250000</td>\n",
              "      <td>35030.250000</td>\n",
              "      <td>35030.250000</td>\n",
              "      <td>39714385405</td>\n",
              "    </tr>\n",
              "    <tr>\n",
              "      <th>2022-01-23</th>\n",
              "      <td>35047.359375</td>\n",
              "      <td>36433.312500</td>\n",
              "      <td>34784.968750</td>\n",
              "      <td>36276.804688</td>\n",
              "      <td>36276.804688</td>\n",
              "      <td>26017975951</td>\n",
              "    </tr>\n",
              "    <tr>\n",
              "      <th>2022-01-24</th>\n",
              "      <td>36275.734375</td>\n",
              "      <td>37247.519531</td>\n",
              "      <td>33184.058594</td>\n",
              "      <td>36654.328125</td>\n",
              "      <td>36654.328125</td>\n",
              "      <td>41856658597</td>\n",
              "    </tr>\n",
              "    <tr>\n",
              "      <th>2022-01-25</th>\n",
              "      <td>36654.804688</td>\n",
              "      <td>37444.570313</td>\n",
              "      <td>35779.429688</td>\n",
              "      <td>36954.003906</td>\n",
              "      <td>36954.003906</td>\n",
              "      <td>26428189594</td>\n",
              "    </tr>\n",
              "    <tr>\n",
              "      <th>2022-01-26</th>\n",
              "      <td>36950.515625</td>\n",
              "      <td>38825.410156</td>\n",
              "      <td>36374.906250</td>\n",
              "      <td>36852.121094</td>\n",
              "      <td>36852.121094</td>\n",
              "      <td>31324598034</td>\n",
              "    </tr>\n",
              "  </tbody>\n",
              "</table>\n",
              "</div>"
            ],
            "text/plain": [
              "                    Open          High           Low         Close  \\\n",
              "Date                                                                 \n",
              "2022-01-22  36471.589844  36688.812500  34349.250000  35030.250000   \n",
              "2022-01-23  35047.359375  36433.312500  34784.968750  36276.804688   \n",
              "2022-01-24  36275.734375  37247.519531  33184.058594  36654.328125   \n",
              "2022-01-25  36654.804688  37444.570313  35779.429688  36954.003906   \n",
              "2022-01-26  36950.515625  38825.410156  36374.906250  36852.121094   \n",
              "\n",
              "               Adj Close       Volume  \n",
              "Date                                   \n",
              "2022-01-22  35030.250000  39714385405  \n",
              "2022-01-23  36276.804688  26017975951  \n",
              "2022-01-24  36654.328125  41856658597  \n",
              "2022-01-25  36954.003906  26428189594  \n",
              "2022-01-26  36852.121094  31324598034  "
            ]
          },
          "execution_count": 54,
          "metadata": {},
          "output_type": "execute_result"
        }
      ],
      "source": [
        "df = pd.read_csv('./BTC-USD.csv', index_col=\"Date\", infer_datetime_format=True, parse_dates=True)\n",
        "df.head(5)"
      ]
    },
    {
      "cell_type": "markdown",
      "metadata": {
        "id": "yXBNX2FHpVti"
      },
      "source": [
        "- dropping"
      ]
    },
    {
      "cell_type": "code",
      "execution_count": 55,
      "metadata": {
        "colab": {
          "base_uri": "https://localhost:8080/",
          "height": 238
        },
        "id": "D4wCPrty_NBZ",
        "outputId": "163d3e6a-dd9f-4d10-cc4e-078f68a7d542"
      },
      "outputs": [
        {
          "data": {
            "text/html": [
              "<div>\n",
              "<style scoped>\n",
              "    .dataframe tbody tr th:only-of-type {\n",
              "        vertical-align: middle;\n",
              "    }\n",
              "\n",
              "    .dataframe tbody tr th {\n",
              "        vertical-align: top;\n",
              "    }\n",
              "\n",
              "    .dataframe thead th {\n",
              "        text-align: right;\n",
              "    }\n",
              "</style>\n",
              "<table border=\"1\" class=\"dataframe\">\n",
              "  <thead>\n",
              "    <tr style=\"text-align: right;\">\n",
              "      <th></th>\n",
              "      <th>Open</th>\n",
              "    </tr>\n",
              "    <tr>\n",
              "      <th>Date</th>\n",
              "      <th></th>\n",
              "    </tr>\n",
              "  </thead>\n",
              "  <tbody>\n",
              "    <tr>\n",
              "      <th>2022-01-22</th>\n",
              "      <td>36471.589844</td>\n",
              "    </tr>\n",
              "    <tr>\n",
              "      <th>2022-01-23</th>\n",
              "      <td>35047.359375</td>\n",
              "    </tr>\n",
              "    <tr>\n",
              "      <th>2022-01-24</th>\n",
              "      <td>36275.734375</td>\n",
              "    </tr>\n",
              "    <tr>\n",
              "      <th>2022-01-25</th>\n",
              "      <td>36654.804688</td>\n",
              "    </tr>\n",
              "    <tr>\n",
              "      <th>2022-01-26</th>\n",
              "      <td>36950.515625</td>\n",
              "    </tr>\n",
              "  </tbody>\n",
              "</table>\n",
              "</div>"
            ],
            "text/plain": [
              "                    Open\n",
              "Date                    \n",
              "2022-01-22  36471.589844\n",
              "2022-01-23  35047.359375\n",
              "2022-01-24  36275.734375\n",
              "2022-01-25  36654.804688\n",
              "2022-01-26  36950.515625"
            ]
          },
          "execution_count": 55,
          "metadata": {},
          "output_type": "execute_result"
        }
      ],
      "source": [
        "df = df.drop(['High','Low','Adj Close','Volume','Close'], axis=1)\n",
        "df.head()"
      ]
    },
    {
      "cell_type": "code",
      "execution_count": 56,
      "metadata": {
        "colab": {
          "base_uri": "https://localhost:8080/"
        },
        "id": "6BEyI0w8ylc3",
        "outputId": "117edd2f-ddd1-4318-c3b2-7ded68c91847"
      },
      "outputs": [
        {
          "data": {
            "text/plain": [
              "array([[36471.589844],\n",
              "       [35047.359375],\n",
              "       [36275.734375],\n",
              "       [36654.804688],\n",
              "       [36950.515625]])"
            ]
          },
          "execution_count": 56,
          "metadata": {},
          "output_type": "execute_result"
        }
      ],
      "source": [
        "dataset = df.values\n",
        "dataset = dataset.astype('float64')\n",
        "dataset[:5]"
      ]
    },
    {
      "cell_type": "markdown",
      "metadata": {
        "id": "_4zKsyTypgcL"
      },
      "source": [
        "### plotting data"
      ]
    },
    {
      "cell_type": "code",
      "execution_count": 57,
      "metadata": {
        "colab": {
          "base_uri": "https://localhost:8080/",
          "height": 265
        },
        "id": "yRU_ga_rzHv5",
        "outputId": "c1fc44d1-21bd-462a-b23a-1fcc9be1c47e"
      },
      "outputs": [
        {
          "data": {
            "image/png": "[encoded data removed]",
            "text/plain": [
              "<Figure size 640x480 with 1 Axes>"
            ]
          },
          "metadata": {},
          "output_type": "display_data"
        }
      ],
      "source": [
        "plt.plot(dataset)\n",
        "plt.show()"
      ]
    },
    {
      "cell_type": "markdown",
      "metadata": {
        "id": "wxcjKZ50pnKA"
      },
      "source": [
        "### normalizing data"
      ]
    },
    {
      "cell_type": "code",
      "execution_count": 58,
      "metadata": {
        "colab": {
          "base_uri": "https://localhost:8080/"
        },
        "id": "yHGcWJCqzy03",
        "outputId": "315ae535-74dd-4571-a23b-17c45ac1aeae"
      },
      "outputs": [
        {
          "name": "stdout",
          "output_type": "stream",
          "text": [
            "[[0.15313579]\n",
            " [0.        ]\n",
            " [0.13207706]\n",
            " [0.17283538]\n",
            " [0.20463074]] \n",
            "\n",
            "(20, 1)\n"
          ]
        }
      ],
      "source": [
        "scaler = MinMaxScaler(feature_range = (0,1))\n",
        "dataset = scaler.fit_transform(dataset)\n",
        "print(dataset[:5],'\\n')\n",
        "print(dataset.shape)"
      ]
    },
    {
      "cell_type": "markdown",
      "metadata": {
        "id": "v-odIRJ_p0ub"
      },
      "source": [
        "### Method for making data and timestep"
      ]
    },
    {
      "cell_type": "code",
      "execution_count": 59,
      "metadata": {
        "id": "FTc_w35542AQ"
      },
      "outputs": [],
      "source": [
        "# lookback -> timestep\n",
        "def create_dataset(dataset,look_back):\n",
        "    data_x, data_y = [],[] #data_x is data and data_y is label\n",
        "    for i in range(len(dataset)-look_back-1): #we want if data be beyond len(sequendatasetce), the command will not continue\n",
        "        data_x.append(dataset[i:(i+look_back),0])\n",
        "        data_y.append(dataset[i+look_back,0])\n",
        "    return np.array(data_x) , np.array(data_y)"
      ]
    },
    {
      "cell_type": "markdown",
      "metadata": {
        "id": "IR1wen6crVYY"
      },
      "source": [
        "### split dataset"
      ]
    },
    {
      "cell_type": "code",
      "execution_count": 60,
      "metadata": {
        "colab": {
          "base_uri": "https://localhost:8080/"
        },
        "id": "F2bQwF2m75fB",
        "outputId": "4ad32296-56e9-4a66-ae7f-bcd05b8c6fce"
      },
      "outputs": [
        {
          "name": "stdout",
          "output_type": "stream",
          "text": [
            "(18, 1)\n",
            "(2, 1)\n"
          ]
        }
      ],
      "source": [
        "train_size = int(len(dataset) * 0.90)\n",
        "train , test = dataset[0:train_size,:] , dataset[train_size:len(dataset),:]\n",
        "print(train.shape)\n",
        "print(test.shape)"
      ]
    },
    {
      "cell_type": "code",
      "execution_count": 61,
      "metadata": {
        "colab": {
          "base_uri": "https://localhost:8080/"
        },
        "id": "UXfmcI5JsRjm",
        "outputId": "ba7d9170-543e-4c84-b3ad-37e5ccf6f5ae"
      },
      "outputs": [
        {
          "data": {
            "text/plain": [
              "array([[0.15313579],\n",
              "       [0.        ],\n",
              "       [0.13207706]])"
            ]
          },
          "execution_count": 61,
          "metadata": {},
          "output_type": "execute_result"
        }
      ],
      "source": [
        "train[:3]"
      ]
    },
    {
      "cell_type": "markdown",
      "metadata": {
        "id": "Zonvsx80w_HW"
      },
      "source": [
        "### Making data train & test x,y"
      ]
    },
    {
      "cell_type": "code",
      "execution_count": 62,
      "metadata": {
        "id": "rfssedbp7stl"
      },
      "outputs": [],
      "source": [
        "n_steps = 5 #timestep or look_up\n",
        "\n",
        "train_x , train_y = create_dataset(train, n_steps)\n",
        "test_x , test_y = create_dataset(test, n_steps)"
      ]
    },
    {
      "cell_type": "code",
      "execution_count": 63,
      "metadata": {
        "colab": {
          "base_uri": "https://localhost:8080/"
        },
        "id": "QYRpaSp4wO0h",
        "outputId": "91ed5e76-23bd-46a5-a1a5-eeb176ee749a"
      },
      "outputs": [
        {
          "name": "stdout",
          "output_type": "stream",
          "text": [
            "(12, 5) (12,)\n",
            "(0,) (0,)\n"
          ]
        }
      ],
      "source": [
        "print(train_x.shape , train_y.shape)\n",
        "print(test_x.shape , test_y.shape)"
      ]
    },
    {
      "cell_type": "code",
      "execution_count": 64,
      "metadata": {
        "colab": {
          "base_uri": "https://localhost:8080/"
        },
        "id": "EF_5EXbI9rWH",
        "outputId": "cd5e62d6-c23c-446f-f0f6-953da21cc1d2"
      },
      "outputs": [
        {
          "data": {
            "text/plain": [
              "array([0.19294993, 0.22376206, 0.29389524])"
            ]
          },
          "execution_count": 64,
          "metadata": {},
          "output_type": "execute_result"
        }
      ],
      "source": [
        "train_y[:3]"
      ]
    },
    {
      "cell_type": "code",
      "execution_count": 65,
      "metadata": {
        "colab": {
          "base_uri": "https://localhost:8080/"
        },
        "id": "7eVCvrxwAgyK",
        "outputId": "81fbc25a-5ae6-4e99-a219-1de945c0b0fd"
      },
      "outputs": [
        {
          "name": "stdout",
          "output_type": "stream",
          "text": [
            "[[0.15313579 0.         0.13207706 0.17283538 0.20463074]\n",
            " [0.         0.13207706 0.17283538 0.20463074 0.19294993]\n",
            " [0.13207706 0.17283538 0.20463074 0.19294993 0.22376206]\n",
            " [0.17283538 0.20463074 0.19294993 0.22376206 0.29389524]\n",
            " [0.20463074 0.19294993 0.22376206 0.29389524 0.33380766]] \n",
            "\n",
            "[0.19294993 0.22376206 0.29389524 0.33380766 0.30890167]\n"
          ]
        }
      ],
      "source": [
        "for i in range(len(test_x)):   \n",
        "    print(test_x[i],test_y[i])\n",
        "\n",
        "print(train_x[:5],'\\n')\n",
        "print(train_y[:5])"
      ]
    },
    {
      "cell_type": "markdown",
      "metadata": {
        "id": "QgsZEofzx0vG"
      },
      "source": [
        "### Converting data to three-dimensional or three-channel\n",
        "- The input must be three-dimensional or three-channel, that's why we reshape it\n"
      ]
    },
    {
      "cell_type": "code",
      "execution_count": 66,
      "metadata": {
        "colab": {
          "base_uri": "https://localhost:8080/"
        },
        "id": "per3i1mlA7dU",
        "outputId": "bb5a232b-6e8e-4aaf-92bc-6d346b6b85f3"
      },
      "outputs": [
        {
          "ename": "IndexError",
          "evalue": "tuple index out of range",
          "output_type": "error",
          "traceback": [
            "\u001b[1;31m---------------------------------------------------------------------------\u001b[0m",
            "\u001b[1;31mIndexError\u001b[0m                                Traceback (most recent call last)",
            "Cell \u001b[1;32mIn[66], line 2\u001b[0m\n\u001b[0;32m      1\u001b[0m trainxr \u001b[38;5;241m=\u001b[39m np\u001b[38;5;241m.\u001b[39mreshape(train_x,(train_x\u001b[38;5;241m.\u001b[39mshape[\u001b[38;5;241m0\u001b[39m],train_x\u001b[38;5;241m.\u001b[39mshape[\u001b[38;5;241m1\u001b[39m],\u001b[38;5;241m1\u001b[39m))\n\u001b[1;32m----> 2\u001b[0m testxr \u001b[38;5;241m=\u001b[39m np\u001b[38;5;241m.\u001b[39mreshape(test_x,(test_x\u001b[38;5;241m.\u001b[39mshape[\u001b[38;5;241m0\u001b[39m],\u001b[43mtest_x\u001b[49m\u001b[38;5;241;43m.\u001b[39;49m\u001b[43mshape\u001b[49m\u001b[43m[\u001b[49m\u001b[38;5;241;43m1\u001b[39;49m\u001b[43m]\u001b[49m,\u001b[38;5;241m1\u001b[39m))\n\u001b[0;32m      4\u001b[0m \u001b[38;5;28mprint\u001b[39m(trainxr\u001b[38;5;241m.\u001b[39mshape)\n\u001b[0;32m      5\u001b[0m \u001b[38;5;28mprint\u001b[39m(testxr\u001b[38;5;241m.\u001b[39mshape)\n",
            "\u001b[1;31mIndexError\u001b[0m: tuple index out of range"
          ]
        }
      ],
      "source": [
        "trainxr = np.reshape(train_x,(train_x.shape[0],train_x.shape[1],1))\n",
        "testxr = np.reshape(test_x,(test_x.shape[0],test_x.shape[1],1))\n",
        "\n",
        "print(trainxr.shape)\n",
        "print(testxr.shape)"
      ]
    },
    {
      "cell_type": "code",
      "execution_count": null,
      "metadata": {
        "id": "-kOmy3vECB-s"
      },
      "outputs": [],
      "source": [
        "train_x = trainxr\n",
        "test_x = testxr"
      ]
    },
    {
      "cell_type": "markdown",
      "metadata": {
        "id": "DGBd2Sm4yKyS"
      },
      "source": [
        "### training model"
      ]
    },
    {
      "cell_type": "code",
      "execution_count": null,
      "metadata": {
        "colab": {
          "base_uri": "https://localhost:8080/"
        },
        "id": "hGYRpJqdCg86",
        "outputId": "52278661-9db4-474c-e790-fae27c27269d"
      },
      "outputs": [
        {
          "name": "stderr",
          "output_type": "stream",
          "text": [
            "WARNING:tensorflow:Layer lstm_2 will not use cuDNN kernels since it doesn't meet the criteria. It will use a generic GPU kernel as fallback when running on GPU.\n"
          ]
        }
      ],
      "source": [
        "n_features = 1 \n",
        "model = Sequential()\n",
        "model.add(LSTM(100, activation = 'relu', input_shape=(n_steps, n_features)))  \n",
        "model.add(Dense(1)) #n-output  \n",
        "model.compile(optimizer='adam',loss='mse')   \n",
        "# model.summary()"
      ]
    },
    {
      "cell_type": "code",
      "execution_count": null,
      "metadata": {
        "colab": {
          "base_uri": "https://localhost:8080/"
        },
        "id": "xi8k3qpQDf9b",
        "outputId": "a43337cf-ab8d-4056-8cc9-7af964dbc503"
      },
      "outputs": [
        {
          "name": "stdout",
          "output_type": "stream",
          "text": [
            "Epoch 1/50\n",
            "162/162 [==============================] - 5s 11ms/step - loss: 0.0581\n",
            "Epoch 2/50\n",
            "162/162 [==============================] - 2s 11ms/step - loss: 0.0119\n",
            "Epoch 3/50\n",
            "162/162 [==============================] - 2s 10ms/step - loss: 0.0087\n",
            "Epoch 4/50\n",
            "162/162 [==============================] - 2s 10ms/step - loss: 0.0062\n",
            "Epoch 5/50\n",
            "162/162 [==============================] - 2s 15ms/step - loss: 0.0049\n",
            "Epoch 6/50\n",
            "162/162 [==============================] - 3s 17ms/step - loss: 0.0045\n",
            "Epoch 7/50\n",
            "162/162 [==============================] - 2s 10ms/step - loss: 0.0043\n",
            "Epoch 8/50\n",
            "162/162 [==============================] - 2s 11ms/step - loss: 0.0042\n",
            "Epoch 9/50\n",
            "162/162 [==============================] - 2s 10ms/step - loss: 0.0043\n",
            "Epoch 10/50\n",
            "162/162 [==============================] - 2s 10ms/step - loss: 0.0043\n",
            "Epoch 11/50\n",
            "162/162 [==============================] - 2s 10ms/step - loss: 0.0047\n",
            "Epoch 12/50\n",
            "162/162 [==============================] - 3s 17ms/step - loss: 0.0048\n",
            "Epoch 13/50\n",
            "162/162 [==============================] - 2s 15ms/step - loss: 0.0042\n",
            "Epoch 14/50\n",
            "162/162 [==============================] - 2s 11ms/step - loss: 0.0049\n",
            "Epoch 15/50\n",
            "162/162 [==============================] - 2s 10ms/step - loss: 0.0044\n",
            "Epoch 16/50\n",
            "162/162 [==============================] - 2s 10ms/step - loss: 0.0046\n",
            "Epoch 17/50\n",
            "162/162 [==============================] - 3s 16ms/step - loss: 0.0050\n",
            "Epoch 18/50\n",
            "162/162 [==============================] - 4s 22ms/step - loss: 0.0048\n",
            "Epoch 19/50\n",
            "162/162 [==============================] - 4s 23ms/step - loss: 0.0044\n",
            "Epoch 20/50\n",
            "162/162 [==============================] - 2s 10ms/step - loss: 0.0043\n",
            "Epoch 21/50\n",
            "162/162 [==============================] - 2s 10ms/step - loss: 0.0046\n",
            "Epoch 22/50\n",
            "162/162 [==============================] - 2s 13ms/step - loss: 0.0044\n",
            "Epoch 23/50\n",
            "162/162 [==============================] - 3s 18ms/step - loss: 0.0042\n",
            "Epoch 24/50\n",
            "162/162 [==============================] - 3s 21ms/step - loss: 0.0043\n",
            "Epoch 25/50\n",
            "162/162 [==============================] - 2s 11ms/step - loss: 0.0038\n",
            "Epoch 26/50\n",
            "162/162 [==============================] - 2s 14ms/step - loss: 0.0042\n",
            "Epoch 27/50\n",
            "162/162 [==============================] - 2s 15ms/step - loss: 0.0040\n",
            "Epoch 28/50\n",
            "162/162 [==============================] - 2s 12ms/step - loss: 0.0038\n",
            "Epoch 29/50\n",
            "162/162 [==============================] - 4s 25ms/step - loss: 0.0039\n",
            "Epoch 30/50\n",
            "162/162 [==============================] - 2s 14ms/step - loss: 0.0035\n",
            "Epoch 31/50\n",
            "162/162 [==============================] - 2s 11ms/step - loss: 0.0037\n",
            "Epoch 32/50\n",
            "162/162 [==============================] - 2s 11ms/step - loss: 0.0035\n",
            "Epoch 33/50\n",
            "162/162 [==============================] - 2s 10ms/step - loss: 0.0035\n",
            "Epoch 34/50\n",
            "162/162 [==============================] - 2s 10ms/step - loss: 0.0034\n",
            "Epoch 35/50\n",
            "162/162 [==============================] - 2s 11ms/step - loss: 0.0031\n",
            "Epoch 36/50\n",
            "162/162 [==============================] - 4s 22ms/step - loss: 0.0033\n",
            "Epoch 37/50\n",
            "162/162 [==============================] - 2s 11ms/step - loss: 0.0031\n",
            "Epoch 38/50\n",
            "162/162 [==============================] - 2s 10ms/step - loss: 0.0029\n",
            "Epoch 39/50\n",
            "162/162 [==============================] - 2s 10ms/step - loss: 0.0031\n",
            "Epoch 40/50\n",
            "162/162 [==============================] - 2s 10ms/step - loss: 0.0027\n",
            "Epoch 41/50\n",
            "162/162 [==============================] - 2s 10ms/step - loss: 0.0030\n",
            "Epoch 42/50\n",
            "162/162 [==============================] - 2s 10ms/step - loss: 0.0030\n",
            "Epoch 43/50\n",
            "162/162 [==============================] - 3s 21ms/step - loss: 0.0027\n",
            "Epoch 44/50\n",
            "162/162 [==============================] - 2s 11ms/step - loss: 0.0026\n",
            "Epoch 45/50\n",
            "162/162 [==============================] - 2s 10ms/step - loss: 0.0026\n",
            "Epoch 46/50\n",
            "162/162 [==============================] - 2s 10ms/step - loss: 0.0026\n",
            "Epoch 47/50\n",
            "162/162 [==============================] - 2s 11ms/step - loss: 0.0024\n",
            "Epoch 48/50\n",
            "162/162 [==============================] - 2s 13ms/step - loss: 0.0024\n",
            "Epoch 49/50\n",
            "162/162 [==============================] - 3s 18ms/step - loss: 0.0022\n",
            "Epoch 50/50\n",
            "162/162 [==============================] - 3s 16ms/step - loss: 0.0023\n"
          ]
        },
        {
          "data": {
            "text/plain": [
              "<keras.callbacks.History at 0x7f2c984b8dc0>"
            ]
          },
          "execution_count": 23,
          "metadata": {},
          "output_type": "execute_result"
        }
      ],
      "source": [
        "#verbose is the choice that how you want to see the output of your Nural Network while it's training. If you set verbose = 0, It will show nothing\n",
        "model.fit(train_x, train_y, epochs=50, shuffle=False, batch_size=2)"
      ]
    },
    {
      "cell_type": "markdown",
      "metadata": {
        "id": "qAHlVhouysLD"
      },
      "source": [
        "### saving model"
      ]
    },
    {
      "cell_type": "code",
      "execution_count": null,
      "metadata": {
        "id": "UfTT1orjzPG-"
      },
      "outputs": [],
      "source": [
        "model.save('/content/drive/MyDrive/savedata')"
      ]
    },
    {
      "cell_type": "code",
      "execution_count": null,
      "metadata": {
        "colab": {
          "base_uri": "https://localhost:8080/"
        },
        "id": "i8qVa0eIz18z",
        "outputId": "fa169231-15a2-440d-9497-7dd1c1cb99c4"
      },
      "outputs": [
        {
          "name": "stderr",
          "output_type": "stream",
          "text": [
            "WARNING:tensorflow:Layer lstm will not use cuDNN kernels since it doesn't meet the criteria. It will use a generic GPU kernel as fallback when running on GPU.\n"
          ]
        }
      ],
      "source": [
        "# loading model\n",
        "new_model = tf.keras.models.load_model('/content/drive/MyDrive/savedata')"
      ]
    },
    {
      "cell_type": "markdown",
      "metadata": {
        "id": "elZwPlOFy7qB"
      },
      "source": [
        "### Testing model"
      ]
    },
    {
      "cell_type": "code",
      "execution_count": null,
      "metadata": {
        "colab": {
          "base_uri": "https://localhost:8080/"
        },
        "id": "2KnPZeVpFMv3",
        "outputId": "26203c0b-b10b-47b6-8777-02bbb2a298d3"
      },
      "outputs": [
        {
          "name": "stdout",
          "output_type": "stream",
          "text": [
            "11/11 [==============================] - 0s 9ms/step\n",
            "1/1 [==============================] - 0s 75ms/step\n",
            "predicted y(train): [0.5678265  0.56865    0.5744151  0.5876969  0.59756374]\n",
            "real y(train): [0.66487279 0.67391999 0.69451282 0.70623209 0.69891907]\n"
          ]
        }
      ],
      "source": [
        "predict_train = new_model.predict(train_x)\n",
        "predict_test = new_model.predict(test_x)\n",
        "print('predicted y(train):', np.reshape(predict_train[:5],-1))\n",
        "print('real y(train):', train_y[:5])"
      ]
    },
    {
      "cell_type": "code",
      "execution_count": null,
      "metadata": {
        "id": "AmOKUDUKFmoB"
      },
      "outputs": [],
      "source": [
        "predict_train = scaler.inverse_transform(predict_train)\n",
        "trainy = scaler.inverse_transform([train_y])\n",
        "\n",
        "predict_test = scaler.inverse_transform(predict_test)\n",
        "testy = scaler.inverse_transform([test_y])"
      ]
    },
    {
      "cell_type": "code",
      "execution_count": null,
      "metadata": {
        "colab": {
          "base_uri": "https://localhost:8080/"
        },
        "id": "tFKYyVip_UkY",
        "outputId": "fe8b989a-5a09-4483-dde1-b8a9e5a76ec1"
      },
      "outputs": [
        {
          "name": "stdout",
          "output_type": "stream",
          "text": [
            "[[33767.977]\n",
            " [33794.06 ]\n",
            " [33976.664]\n",
            " [34397.363]\n",
            " [34709.89 ]]\n"
          ]
        }
      ],
      "source": [
        "print(predict_train[:5])"
      ]
    },
    {
      "cell_type": "markdown",
      "metadata": {
        "id": "SUDHtIww2Vgu"
      },
      "source": [
        "### creating df and plotting"
      ]
    },
    {
      "cell_type": "code",
      "execution_count": null,
      "metadata": {
        "colab": {
          "base_uri": "https://localhost:8080/",
          "height": 206
        },
        "id": "-2qmJY0l1ad0",
        "outputId": "7961c493-d6d8-4b00-aec5-04847d2fab57"
      },
      "outputs": [
        {
          "data": {
            "text/html": [
              "\n",
              "  <div id=\"df-be320ca1-838e-4078-b03d-20b02c52cbdf\">\n",
              "    <div class=\"colab-df-container\">\n",
              "      <div>\n",
              "<style scoped>\n",
              "    .dataframe tbody tr th:only-of-type {\n",
              "        vertical-align: middle;\n",
              "    }\n",
              "\n",
              "    .dataframe tbody tr th {\n",
              "        vertical-align: top;\n",
              "    }\n",
              "\n",
              "    .dataframe thead th {\n",
              "        text-align: right;\n",
              "    }\n",
              "</style>\n",
              "<table border=\"1\" class=\"dataframe\">\n",
              "  <thead>\n",
              "    <tr style=\"text-align: right;\">\n",
              "      <th></th>\n",
              "      <th>Predicted</th>\n",
              "      <th>real</th>\n",
              "    </tr>\n",
              "  </thead>\n",
              "  <tbody>\n",
              "    <tr>\n",
              "      <th>0</th>\n",
              "      <td>33767.976562</td>\n",
              "      <td>36841.878906</td>\n",
              "    </tr>\n",
              "    <tr>\n",
              "      <th>1</th>\n",
              "      <td>33794.058594</td>\n",
              "      <td>37128.445313</td>\n",
              "    </tr>\n",
              "    <tr>\n",
              "      <th>2</th>\n",
              "      <td>33976.664062</td>\n",
              "      <td>37780.714844</td>\n",
              "    </tr>\n",
              "    <tr>\n",
              "      <th>3</th>\n",
              "      <td>34397.363281</td>\n",
              "      <td>38151.917969</td>\n",
              "    </tr>\n",
              "    <tr>\n",
              "      <th>4</th>\n",
              "      <td>34709.890625</td>\n",
              "      <td>37920.281250</td>\n",
              "    </tr>\n",
              "  </tbody>\n",
              "</table>\n",
              "</div>\n",
              "      <button class=\"colab-df-convert\" onclick=\"convertToInteractive('df-be320ca1-838e-4078-b03d-20b02c52cbdf')\"\n",
              "              title=\"Convert this dataframe to an interactive table.\"\n",
              "              style=\"display:none;\">\n",
              "        \n",
              "  <svg xmlns=\"http://www.w3.org/2000/svg\" height=\"24px\"viewBox=\"0 0 24 24\"\n",
              "       width=\"24px\">\n",
              "    <path d=\"M0 0h24v24H0V0z\" fill=\"none\"/>\n",
              "    <path d=\"M18.56 5.44l.94 2.06.94-2.06 2.06-.94-2.06-.94-.94-2.06-.94 2.06-2.06.94zm-11 1L8.5 8.5l.94-2.06 2.06-.94-2.06-.94L8.5 2.5l-.94 2.06-2.06.94zm10 10l.94 2.06.94-2.06 2.06-.94-2.06-.94-.94-2.06-.94 2.06-2.06.94z\"/><path d=\"M17.41 7.96l-1.37-1.37c-.4-.4-.92-.59-1.43-.59-.52 0-1.04.2-1.43.59L10.3 9.45l-7.72 7.72c-.78.78-.78 2.05 0 2.83L4 21.41c.39.39.9.59 1.41.59.51 0 1.02-.2 1.41-.59l7.78-7.78 2.81-2.81c.8-.78.8-2.07 0-2.86zM5.41 20L4 18.59l7.72-7.72 1.47 1.35L5.41 20z\"/>\n",
              "  </svg>\n",
              "      </button>\n",
              "      \n",
              "  <style>\n",
              "    .colab-df-container {\n",
              "      display:flex;\n",
              "      flex-wrap:wrap;\n",
              "      gap: 12px;\n",
              "    }\n",
              "\n",
              "    .colab-df-convert {\n",
              "      background-color: #E8F0FE;\n",
              "      border: none;\n",
              "      border-radius: 50%;\n",
              "      cursor: pointer;\n",
              "      display: none;\n",
              "      fill: #1967D2;\n",
              "      height: 32px;\n",
              "      padding: 0 0 0 0;\n",
              "      width: 32px;\n",
              "    }\n",
              "\n",
              "    .colab-df-convert:hover {\n",
              "      background-color: #E2EBFA;\n",
              "      box-shadow: 0px 1px 2px rgba(60, 64, 67, 0.3), 0px 1px 3px 1px rgba(60, 64, 67, 0.15);\n",
              "      fill: #174EA6;\n",
              "    }\n",
              "\n",
              "    [theme=dark] .colab-df-convert {\n",
              "      background-color: #3B4455;\n",
              "      fill: #D2E3FC;\n",
              "    }\n",
              "\n",
              "    [theme=dark] .colab-df-convert:hover {\n",
              "      background-color: #434B5C;\n",
              "      box-shadow: 0px 1px 3px 1px rgba(0, 0, 0, 0.15);\n",
              "      filter: drop-shadow(0px 1px 2px rgba(0, 0, 0, 0.3));\n",
              "      fill: #FFFFFF;\n",
              "    }\n",
              "  </style>\n",
              "\n",
              "      <script>\n",
              "        const buttonEl =\n",
              "          document.querySelector('#df-be320ca1-838e-4078-b03d-20b02c52cbdf button.colab-df-convert');\n",
              "        buttonEl.style.display =\n",
              "          google.colab.kernel.accessAllowed ? 'block' : 'none';\n",
              "\n",
              "        async function convertToInteractive(key) {\n",
              "          const element = document.querySelector('#df-be320ca1-838e-4078-b03d-20b02c52cbdf');\n",
              "          const dataTable =\n",
              "            await google.colab.kernel.invokeFunction('convertToInteractive',\n",
              "                                                     [key], {});\n",
              "          if (!dataTable) return;\n",
              "\n",
              "          const docLinkHtml = 'Like what you see? Visit the ' +\n",
              "            '<a target=\"_blank\" href=https://colab.research.google.com/notebooks/data_table.ipynb>data table notebook</a>'\n",
              "            + ' to learn more about interactive tables.';\n",
              "          element.innerHTML = '';\n",
              "          dataTable['output_type'] = 'display_data';\n",
              "          await google.colab.output.renderOutput(dataTable, element);\n",
              "          const docLink = document.createElement('div');\n",
              "          docLink.innerHTML = docLinkHtml;\n",
              "          element.appendChild(docLink);\n",
              "        }\n",
              "      </script>\n",
              "    </div>\n",
              "  </div>\n",
              "  "
            ],
            "text/plain": [
              "      Predicted          real\n",
              "0  33767.976562  36841.878906\n",
              "1  33794.058594  37128.445313\n",
              "2  33976.664062  37780.714844\n",
              "3  34397.363281  38151.917969\n",
              "4  34709.890625  37920.281250"
            ]
          },
          "execution_count": 109,
          "metadata": {},
          "output_type": "execute_result"
        }
      ],
      "source": [
        "Answer1 = pd.DataFrame({\n",
        "    \"Predicted\": predict_train.ravel(),\n",
        "    \"real\": trainy.ravel()\n",
        "}) \n",
        "Answer1.head()"
      ]
    },
    {
      "cell_type": "code",
      "execution_count": null,
      "metadata": {
        "colab": {
          "base_uri": "https://localhost:8080/",
          "height": 336
        },
        "id": "wLqR02U4tCOP",
        "outputId": "fa73e3a8-5e70-42a4-d054-504173cea56a"
      },
      "outputs": [
        {
          "data": {
            "image/png": "[encoded data removed]",
            "text/plain": [
              "<Figure size 720x360 with 1 Axes>"
            ]
          },
          "metadata": {
            "needs_background": "light"
          },
          "output_type": "display_data"
        }
      ],
      "source": [
        "#train\n",
        "Answer1.plot(title=\"outcome\", figsize=(10,5));"
      ]
    },
    {
      "cell_type": "code",
      "execution_count": null,
      "metadata": {
        "id": "KDMNKdEQF_Ps"
      },
      "outputs": [],
      "source": [
        "# xx2 = test_x.reshape(-1,1)\n",
        "# xx2 = scaler.inverse_transform(xx2)\n",
        "# xx2[:8]"
      ]
    },
    {
      "cell_type": "code",
      "execution_count": null,
      "metadata": {
        "colab": {
          "base_uri": "https://localhost:8080/",
          "height": 206
        },
        "id": "JIA6wbWdsnKS",
        "outputId": "9993c731-f5df-4f40-ef04-e67bcccb5b2d"
      },
      "outputs": [
        {
          "data": {
            "text/html": [
              "\n",
              "  <div id=\"df-3c9ffa70-34b1-403c-a80f-be6cf7d420ee\">\n",
              "    <div class=\"colab-df-container\">\n",
              "      <div>\n",
              "<style scoped>\n",
              "    .dataframe tbody tr th:only-of-type {\n",
              "        vertical-align: middle;\n",
              "    }\n",
              "\n",
              "    .dataframe tbody tr th {\n",
              "        vertical-align: top;\n",
              "    }\n",
              "\n",
              "    .dataframe thead th {\n",
              "        text-align: right;\n",
              "    }\n",
              "</style>\n",
              "<table border=\"1\" class=\"dataframe\">\n",
              "  <thead>\n",
              "    <tr style=\"text-align: right;\">\n",
              "      <th></th>\n",
              "      <th>Predicted</th>\n",
              "      <th>real</th>\n",
              "    </tr>\n",
              "  </thead>\n",
              "  <tbody>\n",
              "    <tr>\n",
              "      <th>0</th>\n",
              "      <td>16633.142578</td>\n",
              "      <td>16818.380859</td>\n",
              "    </tr>\n",
              "    <tr>\n",
              "      <th>1</th>\n",
              "      <td>16646.205078</td>\n",
              "      <td>16829.644531</td>\n",
              "    </tr>\n",
              "    <tr>\n",
              "      <th>2</th>\n",
              "      <td>16654.000000</td>\n",
              "      <td>16796.976563</td>\n",
              "    </tr>\n",
              "    <tr>\n",
              "      <th>3</th>\n",
              "      <td>16643.128906</td>\n",
              "      <td>16847.505859</td>\n",
              "    </tr>\n",
              "    <tr>\n",
              "      <th>4</th>\n",
              "      <td>16663.453125</td>\n",
              "      <td>16842.250000</td>\n",
              "    </tr>\n",
              "  </tbody>\n",
              "</table>\n",
              "</div>\n",
              "      <button class=\"colab-df-convert\" onclick=\"convertToInteractive('df-3c9ffa70-34b1-403c-a80f-be6cf7d420ee')\"\n",
              "              title=\"Convert this dataframe to an interactive table.\"\n",
              "              style=\"display:none;\">\n",
              "        \n",
              "  <svg xmlns=\"http://www.w3.org/2000/svg\" height=\"24px\"viewBox=\"0 0 24 24\"\n",
              "       width=\"24px\">\n",
              "    <path d=\"M0 0h24v24H0V0z\" fill=\"none\"/>\n",
              "    <path d=\"M18.56 5.44l.94 2.06.94-2.06 2.06-.94-2.06-.94-.94-2.06-.94 2.06-2.06.94zm-11 1L8.5 8.5l.94-2.06 2.06-.94-2.06-.94L8.5 2.5l-.94 2.06-2.06.94zm10 10l.94 2.06.94-2.06 2.06-.94-2.06-.94-.94-2.06-.94 2.06-2.06.94z\"/><path d=\"M17.41 7.96l-1.37-1.37c-.4-.4-.92-.59-1.43-.59-.52 0-1.04.2-1.43.59L10.3 9.45l-7.72 7.72c-.78.78-.78 2.05 0 2.83L4 21.41c.39.39.9.59 1.41.59.51 0 1.02-.2 1.41-.59l7.78-7.78 2.81-2.81c.8-.78.8-2.07 0-2.86zM5.41 20L4 18.59l7.72-7.72 1.47 1.35L5.41 20z\"/>\n",
              "  </svg>\n",
              "      </button>\n",
              "      \n",
              "  <style>\n",
              "    .colab-df-container {\n",
              "      display:flex;\n",
              "      flex-wrap:wrap;\n",
              "      gap: 12px;\n",
              "    }\n",
              "\n",
              "    .colab-df-convert {\n",
              "      background-color: #E8F0FE;\n",
              "      border: none;\n",
              "      border-radius: 50%;\n",
              "      cursor: pointer;\n",
              "      display: none;\n",
              "      fill: #1967D2;\n",
              "      height: 32px;\n",
              "      padding: 0 0 0 0;\n",
              "      width: 32px;\n",
              "    }\n",
              "\n",
              "    .colab-df-convert:hover {\n",
              "      background-color: #E2EBFA;\n",
              "      box-shadow: 0px 1px 2px rgba(60, 64, 67, 0.3), 0px 1px 3px 1px rgba(60, 64, 67, 0.15);\n",
              "      fill: #174EA6;\n",
              "    }\n",
              "\n",
              "    [theme=dark] .colab-df-convert {\n",
              "      background-color: #3B4455;\n",
              "      fill: #D2E3FC;\n",
              "    }\n",
              "\n",
              "    [theme=dark] .colab-df-convert:hover {\n",
              "      background-color: #434B5C;\n",
              "      box-shadow: 0px 1px 3px 1px rgba(0, 0, 0, 0.15);\n",
              "      filter: drop-shadow(0px 1px 2px rgba(0, 0, 0, 0.3));\n",
              "      fill: #FFFFFF;\n",
              "    }\n",
              "  </style>\n",
              "\n",
              "      <script>\n",
              "        const buttonEl =\n",
              "          document.querySelector('#df-3c9ffa70-34b1-403c-a80f-be6cf7d420ee button.colab-df-convert');\n",
              "        buttonEl.style.display =\n",
              "          google.colab.kernel.accessAllowed ? 'block' : 'none';\n",
              "\n",
              "        async function convertToInteractive(key) {\n",
              "          const element = document.querySelector('#df-3c9ffa70-34b1-403c-a80f-be6cf7d420ee');\n",
              "          const dataTable =\n",
              "            await google.colab.kernel.invokeFunction('convertToInteractive',\n",
              "                                                     [key], {});\n",
              "          if (!dataTable) return;\n",
              "\n",
              "          const docLinkHtml = 'Like what you see? Visit the ' +\n",
              "            '<a target=\"_blank\" href=https://colab.research.google.com/notebooks/data_table.ipynb>data table notebook</a>'\n",
              "            + ' to learn more about interactive tables.';\n",
              "          element.innerHTML = '';\n",
              "          dataTable['output_type'] = 'display_data';\n",
              "          await google.colab.output.renderOutput(dataTable, element);\n",
              "          const docLink = document.createElement('div');\n",
              "          docLink.innerHTML = docLinkHtml;\n",
              "          element.appendChild(docLink);\n",
              "        }\n",
              "      </script>\n",
              "    </div>\n",
              "  </div>\n",
              "  "
            ],
            "text/plain": [
              "      Predicted          real\n",
              "0  16633.142578  16818.380859\n",
              "1  16646.205078  16829.644531\n",
              "2  16654.000000  16796.976563\n",
              "3  16643.128906  16847.505859\n",
              "4  16663.453125  16842.250000"
            ]
          },
          "execution_count": 111,
          "metadata": {},
          "output_type": "execute_result"
        }
      ],
      "source": [
        "Answer2 = pd.DataFrame({\n",
        "    \"Predicted\": predict_test.ravel(),\n",
        "    \"real\": testy.ravel()\n",
        "}) \n",
        "Answer2.head()"
      ]
    },
    {
      "cell_type": "code",
      "execution_count": null,
      "metadata": {
        "colab": {
          "base_uri": "https://localhost:8080/",
          "height": 336
        },
        "id": "sbFmo7e7KXGS",
        "outputId": "9d3ff0e8-2072-471f-99ec-c968072fb89a"
      },
      "outputs": [
        {
          "data": {
            "image/png": "[encoded data removed]",
            "text/plain": [
              "<Figure size 720x360 with 1 Axes>"
            ]
          },
          "metadata": {
            "needs_background": "light"
          },
          "output_type": "display_data"
        }
      ],
      "source": [
        "#test\n",
        "Answer2.plot(title=\"outcome\", figsize=(10,5));"
      ]
    },
    {
      "cell_type": "markdown",
      "metadata": {
        "id": "xuzekfZ4zHJz"
      },
      "source": [
        "### Evaluate the model"
      ]
    },
    {
      "cell_type": "code",
      "execution_count": null,
      "metadata": {
        "colab": {
          "base_uri": "https://localhost:8080/"
        },
        "id": "Hi1-xIZhxGOt",
        "outputId": "d0d55190-2fa6-45ee-c9d7-7fe4452dc2d9"
      },
      "outputs": [
        {
          "name": "stdout",
          "output_type": "stream",
          "text": [
            "1/1 [==============================] - 0s 167ms/step - loss: 0.0085\n"
          ]
        },
        {
          "data": {
            "text/plain": [
              "0.008512858301401138"
            ]
          },
          "execution_count": 113,
          "metadata": {},
          "output_type": "execute_result"
        }
      ],
      "source": [
        "model.evaluate(test_x, test_y)"
      ]
    },
    {
      "cell_type": "code",
      "execution_count": null,
      "metadata": {
        "colab": {
          "base_uri": "https://localhost:8080/"
        },
        "id": "EkPDtFgDJPwf",
        "outputId": "9ab066c3-37d5-4c48-d237-35a93073194e"
      },
      "outputs": [
        {
          "name": "stdout",
          "output_type": "stream",
          "text": [
            "rmse  2649.3978892712557\n",
            "rmse  17563.538958516638\n"
          ]
        }
      ],
      "source": [
        "train_score = math.sqrt(mean_squared_error(trainy.reshape(-1),predict_train))\n",
        "print('rmse ', train_score)\n",
        "test_score = math.sqrt(mean_squared_error(test_y.reshape(-1),predict_test))\n",
        "print('rmse ', test_score)"
      ]
    },
    {
      "cell_type": "markdown",
      "metadata": {
        "id": "SZm0jQgkB5sY"
      },
      "source": [
        "### new testing\n",
        "- we must change dim"
      ]
    },
    {
      "cell_type": "code",
      "execution_count": null,
      "metadata": {
        "colab": {
          "base_uri": "https://localhost:8080/"
        },
        "id": "3IWU9p2RA5Zr",
        "outputId": "0cde1f18-d5cb-4113-a63e-cf7aa0237535"
      },
      "outputs": [
        {
          "data": {
            "text/plain": [
              "((31, 5, 1), (31,))"
            ]
          },
          "execution_count": 60,
          "metadata": {},
          "output_type": "execute_result"
        }
      ],
      "source": [
        "test_x.shape , test_y.shape"
      ]
    },
    {
      "cell_type": "code",
      "execution_count": null,
      "metadata": {
        "colab": {
          "base_uri": "https://localhost:8080/"
        },
        "id": "HNmLoQrbkoH0",
        "outputId": "02f960c0-4251-4928-dab8-c329d98688e1"
      },
      "outputs": [
        {
          "data": {
            "text/plain": [
              "(1, 5, 1)"
            ]
          },
          "execution_count": 66,
          "metadata": {},
          "output_type": "execute_result"
        }
      ],
      "source": [
        "test_ = array([0.0272989,  0.03199121, 0.03083671, 0.02082067, 0.03542986])\n",
        "test_ = test_.reshape(1,n_steps,n_features)\n",
        "test_.shape"
      ]
    },
    {
      "cell_type": "code",
      "execution_count": null,
      "metadata": {
        "colab": {
          "base_uri": "https://localhost:8080/"
        },
        "id": "8rixaWcLHfmM",
        "outputId": "124177f7-9c2d-469d-f471-d2f5b7ddd383"
      },
      "outputs": [
        {
          "name": "stdout",
          "output_type": "stream",
          "text": [
            "1/1 [==============================] - 0s 27ms/step\n"
          ]
        },
        {
          "data": {
            "text/plain": [
              "array([[0.02686197]], dtype=float32)"
            ]
          },
          "execution_count": 67,
          "metadata": {},
          "output_type": "execute_result"
        }
      ],
      "source": [
        "y_hat = model.predict(test_)\n",
        "y_hat"
      ]
    },
    {
      "cell_type": "code",
      "execution_count": null,
      "metadata": {
        "colab": {
          "base_uri": "https://localhost:8080/"
        },
        "id": "SGqmb61mJEuN",
        "outputId": "92ba122b-f152-4b3e-f4c3-caf3c6391bf3"
      },
      "outputs": [
        {
          "data": {
            "text/plain": [
              "array([[16633.143]], dtype=float32)"
            ]
          },
          "execution_count": 68,
          "metadata": {},
          "output_type": "execute_result"
        }
      ],
      "source": [
        "y_hat = scaler.inverse_transform(y_hat)\n",
        "y_hat"
      ]
    }
  ],
  "metadata": {
    "accelerator": "GPU",
    "colab": {
      "provenance": []
    },
    "gpuClass": "standard",
    "kernelspec": {
      "display_name": "Python 3",
      "name": "python3"
    },
    "language_info": {
      "codemirror_mode": {
        "name": "ipython",
        "version": 3
      },
      "file_extension": ".py",
      "mimetype": "text/x-python",
      "name": "python",
      "nbconvert_exporter": "python",
      "pygments_lexer": "ipython3",
      "version": "3.9.18"
    }
  },
  "nbformat": 4,
  "nbformat_minor": 0
}
